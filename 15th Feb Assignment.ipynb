{
 "cells": [
  {
   "cell_type": "code",
   "execution_count": null,
   "id": "eb59d9e7",
   "metadata": {},
   "outputs": [],
   "source": [
    "Q1. What is multiprocessing in python? Why is it useful?"
   ]
  },
  {
   "cell_type": "code",
   "execution_count": null,
   "id": "73e61df7",
   "metadata": {},
   "outputs": [],
   "source": [
    "Multiprocessing in Python refers to the ability of Python to run multiple processes in parallel to perform a task.\n",
    "allowing the program to make better use of available resources and complete the task faster. \n",
    "\n",
    "Improved performance\n",
    "Efficient use of resources\n",
    "Better scalability\n",
    "Fault tolerance"
   ]
  },
  {
   "cell_type": "code",
   "execution_count": null,
   "id": "b3e2d0d0",
   "metadata": {},
   "outputs": [],
   "source": [
    "Q2. What are the differences between multiprocessing and multithreading?"
   ]
  },
  {
   "cell_type": "code",
   "execution_count": null,
   "id": "34a1a50d",
   "metadata": {},
   "outputs": [],
   "source": [
    " 1.Multiprocessing\n",
    "In multiprocessing, multiple processes run in parallel, and each process has its own memory space and resources.\n",
    "Multiprocessing has a higher overhead than multithreading\n",
    "Multiprocessing can take advantage of multiple CPUs or cores, which can lead to better resource utilization and performance\n",
    "In multiprocessing, synchronization between processes can be more complicated, as each process has its own memory space\n",
    "\n",
    "2. Multithreading\n",
    "in multithreading, multiple threads run in parallel within a single process and share the same memory space and resources.\n",
    "creating a new thread is relatively quick and has less overhead.    \n",
    "multithreading can only take advantage of a single CPU or core.\n",
    "multithreading requires synchronization between threads, but it is easier to achieve, as all threads share the same \n",
    "memory space."
   ]
  },
  {
   "cell_type": "code",
   "execution_count": null,
   "id": "42007a71",
   "metadata": {},
   "outputs": [],
   "source": [
    "Q3. Write a python code to create a process using the multiprocessing module."
   ]
  },
  {
   "cell_type": "code",
   "execution_count": 1,
   "id": "285a53ed",
   "metadata": {},
   "outputs": [],
   "source": [
    "import multiprocessing\n",
    "\n",
    "def worker(num):\n",
    "    \"\"\"Worker function\"\"\"\n",
    "    print('Worker:', num)\n",
    "\n",
    "if __name__ == '__main__':\n",
    "    # Create a new process\n",
    "    p = multiprocessing.Process(target=worker, args=(1,))\n",
    "    # Start the process\n",
    "    p.start()\n",
    "    # Wait for the process to complete\n",
    "    p.join()\n"
   ]
  },
  {
   "cell_type": "code",
   "execution_count": null,
   "id": "280c7b46",
   "metadata": {},
   "outputs": [],
   "source": [
    "Q4. What is a multiprocessing pool in python? Why is it used?"
   ]
  },
  {
   "cell_type": "code",
   "execution_count": null,
   "id": "a7d11da5",
   "metadata": {},
   "outputs": [],
   "source": [
    "the multiprocessing pool is a powerful tool for parallelizing the execution of a function across multiple inputs and can \n",
    "significantly improve the performance of a program.\n",
    "\n",
    "multiprocessing pool is useful :\n",
    "    Improved performance\n",
    "    Efficient use of resources\n",
    "    Better scalability"
   ]
  },
  {
   "cell_type": "code",
   "execution_count": null,
   "id": "20d88bed",
   "metadata": {},
   "outputs": [],
   "source": [
    "Q5. How can we create a pool of worker processes in python using the multiprocessing module?"
   ]
  },
  {
   "cell_type": "code",
   "execution_count": null,
   "id": "f02dfa9f",
   "metadata": {},
   "outputs": [],
   "source": [
    "#To create a pool of worker processes in Python using the multiprocessing module, we use the multiprocessing.Pool class\n",
    "\n",
    "import multiprocessing\n",
    "\n",
    "def worker(num):\n",
    "    \"\"\"Worker function\"\"\"\n",
    "    print('Worker:', num)\n",
    "    return num\n",
    "\n",
    "if __name__ == '__main__':\n",
    "    # Create a pool with 4 worker processes\n",
    "    with multiprocessing.Pool(processes=4) as pool:\n",
    "        # Execute the worker function with input values 0 to 3\n",
    "        results = pool.map(worker, range(4))\n",
    "        print(results)\n"
   ]
  },
  {
   "cell_type": "code",
   "execution_count": null,
   "id": "1364ddf9",
   "metadata": {},
   "outputs": [],
   "source": [
    "Q6. Write a python program to create 4 processes, each process should print a different number using the\n",
    "multiprocessing module in python."
   ]
  },
  {
   "cell_type": "code",
   "execution_count": null,
   "id": "bae64246",
   "metadata": {},
   "outputs": [],
   "source": [
    "import multiprocessing\n",
    "\n",
    "def print_number(num):\n",
    "    \"\"\"Prints a number\"\"\"\n",
    "    print(\"Process\", multiprocessing.current_process().name, \"printed\", num)\n",
    "\n",
    "if __name__ == '__main__':\n",
    "    # Create 4 processes\n",
    "    processes = []\n",
    "    for i in range(4):\n",
    "        process = multiprocessing.Process(target=print_number, args=(i,))\n",
    "        processes.append(process)\n",
    "\n",
    "    # Start the processes\n",
    "    for process in processes:\n",
    "        process.start()\n",
    "\n",
    "    # Wait for the processes to complete\n",
    "    for process in processes:\n",
    "        process.join()\n"
   ]
  },
  {
   "cell_type": "code",
   "execution_count": null,
   "id": "d3d929db",
   "metadata": {},
   "outputs": [],
   "source": []
  },
  {
   "cell_type": "code",
   "execution_count": null,
   "id": "d619de34",
   "metadata": {},
   "outputs": [],
   "source": []
  },
  {
   "cell_type": "code",
   "execution_count": null,
   "id": "8b5d9455",
   "metadata": {},
   "outputs": [],
   "source": []
  }
 ],
 "metadata": {
  "kernelspec": {
   "display_name": "Python 3 (ipykernel)",
   "language": "python",
   "name": "python3"
  },
  "language_info": {
   "codemirror_mode": {
    "name": "ipython",
    "version": 3
   },
   "file_extension": ".py",
   "mimetype": "text/x-python",
   "name": "python",
   "nbconvert_exporter": "python",
   "pygments_lexer": "ipython3",
   "version": "3.9.13"
  }
 },
 "nbformat": 4,
 "nbformat_minor": 5
}
